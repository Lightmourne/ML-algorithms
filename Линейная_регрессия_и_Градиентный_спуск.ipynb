{
 "cells": [
  {
   "cell_type": "markdown",
   "metadata": {
    "id": "m9ird45arXbc"
   },
   "source": [
    "# Линейная регрессия"
   ]
  },
  {
   "cell_type": "markdown",
   "metadata": {
    "id": "Bdha_z3vqBWk"
   },
   "source": [
    "## Определение\n",
    "Линейная регрессия (англ. Linear regression) — используемая в статистике регрессионная модель зависимости одной (объясняемой, зависимой) переменной\n",
    "**$y$** от другой или нескольких других переменных (факторов, регрессоров, независимых переменных) $x$ с **линейной функцией** зависимости.\n",
    "\n",
    "Модель линейной регрессии является часто используемой и наиболее изученной в эконометрике. А именно изучены свойства оценок параметров, получаемых различными методами при предположениях о вероятностных характеристиках факторов, и случайных ошибок модели.\n",
    "\n",
    "Источник: [wikipedia.org](https://ru.wikipedia.org/wiki/%D0%9B%D0%B8%D0%BD%D0%B5%D0%B9%D0%BD%D0%B0%D1%8F_%D1%80%D0%B5%D0%B3%D1%80%D0%B5%D1%81%D1%81%D0%B8%D1%8F)"
   ]
  },
  {
   "cell_type": "markdown",
   "metadata": {
    "id": "1rQ3IZhPsd0z"
   },
   "source": [
    "Линейная регрессия задается в виде:\n",
    "\n",
    "$$y_i = \\sum_{j=0}^{m}w_j X_{ij} + ε_i$$\n",
    "\n",
    "где\n",
    "* $\\vec{y}$ - целевая\n",
    "* $w$ - вектор весов\n",
    "* $X$ - матрица объектов-признаков\n",
    "* $ε$ - случайная непрогнозируемая ошибка\n",
    "\n",
    "**Метод наименьших квадратов (МНК, OLS, Ordinary Least Squares)** — один из базовых методов регрессионного анализа для оценки неизвестных параметров регрессионных моделей по выборочным данным. Метод основан на минимизации суммы квадратов остатков регрессии.\n",
    "\n",
    "Оценки, полученные по МНК, обладают следующими свойствами:\n",
    "\n",
    "\n",
    "1.   Оценки параметров являются **несмещенными** т. е. $M(b_1) = β_1$, $M(b_0) = β_0$ (математические ожидания оценок параметров равны их теоретическим значениям). Это вытекает из того, что $M(ε_i) = 0$, и говорит об отсутствии систематической ошибки в определении положения линии регрессии. Оценка, для которой смещение – разность между значением параметра и его оценкой – стремится к нулю при возрастании выборки – является *асимптотически несмещенной*.\n",
    "2.   Оценки параметров **состоятельны**, если при увеличении объема выборки надежность оценок увеличивается ($b_1$ наверняка близко к $β_1$, $b_0$ — близко к $β_0$), т.е. $D(b_0) → 0$, $D(b_1) → 0$ при $n → ∞$.\n",
    "3.   Оценки параметров **эффективны**, т. е. они имеют наименьшую дисперсию по сравнению с другими оценками данных параметров, линейными относительно величин $y_i$.\n",
    "\n",
    "Таким образом МНК-оценки являются несмещенными линейными оценками с минимальной дисперсией, имеющими нормальное распределение."
   ]
  },
  {
   "cell_type": "markdown",
   "metadata": {
    "id": "0N_l1fxuw1Ya"
   },
   "source": [
    "Для получения по МНК наилучших результатов требуется, чтобы выполнялся ряд предпосылок относительно случайного отклонения. Их также называют предпосылками Гаусса-Маркова. [Теорема Гаусса-Маркова](https://ru.wikipedia.org/wiki/%D0%A2%D0%B5%D0%BE%D1%80%D0%B5%D0%BC%D0%B0_%D0%93%D0%B0%D1%83%D1%81%D1%81%D0%B0_%E2%80%94_%D0%9C%D0%B0%D1%80%D0%BA%D0%BE%D0%B2%D0%B0) гласит, что наилучшие оценки параметров уравнения регрессии могут быть получены при обязательном соблюдении следующих предпосылок:\n",
    "\n",
    "1. Математическое ожидание случайного отклонения $ε_i$ равно нулю: $M(ε_i) = 0$ для всех наблюдений.\n",
    ">Данное условие означает, что случайное отклонение в среднем не оказывает влияния на зависимую переменную, случайный член может быть положительным или отрицательным, но он не должен иметь систематического смещения.\n",
    "\n",
    "2. Дисперсия случайных отклонений постоянна: $D(ε_{ij}) = σ^2 = const$ для любых наблюдений $i$ и $j$.\n",
    "> Условие независимости дисперсии ошибки от номера наблюдения называется гомоскедастичностью (homoscedasticity). Невыполнимость этой предпосылки называется гетероскедастичностью (heteroscedasticity).\n",
    "\n",
    "3. Случайные отклонения $ε_i$ и $ε_j$ являются независимыми друг от друга для $i ≠ j$. Выполнимость этой предпосылки предполагает, что отсутствует систематическая связь между любыми случайными отклонениями. Величина и определенный знак любого случайного отклонения не должны быть причинами величины и знака любого другого отклонения.\n",
    "\n",
    "Записывая математически:\n",
    "\n",
    "$$\\forall i: \\mathbb{E}[\\epsilon_i] = 0$$\n",
    "\n",
    "$$\\forall i: Var(e_i) = \\sigma^2 < \\inf$$\n",
    "\n",
    "$$\\forall i \\neq j: Cov(\\epsilon_i, \\epsilon_j) = 0$$"
   ]
  },
  {
   "cell_type": "markdown",
   "metadata": {
    "id": "8xDiR0Ij082S"
   },
   "source": [
    "Вернемся к формуле линейной регрессии: $y_i = \\sum_{j=0}^{m}w_j X_{ij} + ε_i$\n",
    "\n",
    "Из школьной программы всем известно уравнение линии на плоскости $y = ax +b$. Это уравнение определяется двумя параметрами $-$ *смещением* и *наклоном*. В этой формуле мы определяем их как $a$ и $b$, но чаще их можно увидеть как $w_1$ и $w_0$.\n",
    "\n",
    "Т.е. вместо $y = ax +b$ будет запись $y = w_0 + w_1 x$\n",
    "\n",
    "Почему обозначение через $w$? Так проще задавать **веса** (параметры) нашей модели вне зависимости от количества входов.\n",
    "\n",
    "Так в случае одного признака $[w_0, w_1]$ задаем $y = w_0 + w_1\\cdot x$\n",
    "\n",
    "В случае двух признаков $[w_0, w_1, w_2]$ - все аналогично, свободный член смещения и цифра, на которую мы домножаем каждую точку этого признака: $y = w_0 + w_1\\cdot x_1 + w_2\\cdot x_2$"
   ]
  },
  {
   "cell_type": "code",
   "execution_count": 2,
   "metadata": {
    "id": "sjdSSeGs2lCW"
   },
   "outputs": [],
   "source": [
    "# импорт необходимых библиотек\n",
    "import numpy as np\n",
    "import pandas as pd\n",
    "import matplotlib.pyplot as plt\n",
    "import seaborn as sns\n",
    "from sklearn import datasets"
   ]
  },
  {
   "cell_type": "markdown",
   "metadata": {
    "id": "OwdTQ3YIGE8j"
   },
   "source": [
    "Ниже представлен график линии с разными коэффициентами наклона и смещения"
   ]
  },
  {
   "cell_type": "code",
   "execution_count": 3,
   "metadata": {
    "colab": {
     "base_uri": "https://localhost:8080/",
     "height": 581
    },
    "id": "MbSM_MqS7ApH",
    "outputId": "de914d7c-d44f-425a-bc98-21d801f4d86e"
   },
   "outputs": [
    {
     "data": {
      "text/plain": [
       "<matplotlib.legend.Legend at 0x7c332247f940>"
      ]
     },
     "execution_count": 3,
     "metadata": {},
     "output_type": "execute_result"
    },
    {
     "data": {
      "image/png": "[encoded data removed]",
      "text/plain": [
       "<Figure size 600x600 with 1 Axes>"
      ]
     },
     "metadata": {},
     "output_type": "display_data"
    }
   ],
   "source": [
    "plt.figure(figsize=(6, 6))\n",
    "plt.title('График линии')\n",
    "plt.ylim((-35, 35))\n",
    "plt.ylabel('Y')\n",
    "plt.xlabel('X')\n",
    "\n",
    "w1 = 0.2 # наклон\n",
    "w0 = 10 # смещение\n",
    "x = np.arange(1, 40) # данные на вход\n",
    "y = w0 + x*w1 # поэлементно умножаем на наклон и поэлементно добавляем смещение\n",
    "plt.plot(x, y, label = f'Наклон {w1} смещение {w0}')\n",
    "\n",
    "w1 = 1 # наклон\n",
    "w0 = -15 # смещение\n",
    "x = np.arange(1, 40) # данные на вход\n",
    "y = w0 + x*w1 # поэлементно умножаем на наклон и поэлементно добавляем смещение\n",
    "plt.plot(x, y, label = f'Наклон {w1} смещение {w0}')\n",
    "\n",
    "plt.legend()"
   ]
  },
  {
   "cell_type": "markdown",
   "metadata": {
    "id": "WBjM0lfaHv56"
   },
   "source": [
    "## Градиентный спуск\n",
    "На практике оптимальный вектор весов для обобщения информации на графике вычисляют с помощью градиентного спуска.\n",
    "\n",
    "[Градиентный спуск, метод градиентного спуска](https://ru.wikipedia.org/wiki/%D0%93%D1%80%D0%B0%D0%B4%D0%B8%D0%B5%D0%BD%D1%82%D0%BD%D1%8B%D0%B9_%D1%81%D0%BF%D1%83%D1%81%D0%BA) — численный метод нахождения локального минимума или максимума функции с помощью движения вдоль градиента, один из основных численных методов современной оптимизации.\n",
    "\n",
    "Предполагается что между признаками (в простейшем случае он один - переменная $x$) и целевой переменной (переменная $y$) есть **линейная** зависимость. На практике признаков может быть больше, с каждым из них ищется линейная связь ($w_n \\cdot x_n$)\n",
    "\n",
    "Необходимо найти такие параметры линии $[w_0, \\cdots , w_n]$ (в простейшем случае их 2 $[w_0, w_1]$), чтобы ошибка была минимальной.\n",
    "\n",
    "Параметры мы изначально инициализируем случайными числами и затем итеративно, небольшими шагами (например, 0.001), будем уменьшать их в сторону минимизации ошибки.\n",
    "\n",
    "В зависимости от уравнения прямой ошибка (обозначим ее $J$) будет менятся - $J(W)$\n",
    "\n",
    "Тогда шагом в минимизации ошибки будет следующее выражение:\n",
    "\n",
    "$$W := W - \\alpha \\frac{d}{dW} J(W)$$\n",
    "\n",
    "Где\n",
    "* $W$ - вектор искомых параметров $[w_0, \\cdots , w_n]$\n",
    "* $J(W)$ - ошибка\n",
    "* Cимвол $:=$ означает, что значение на следующем шаге (слева) заменит выражение справа\n",
    "* Параметр $\\alpha$ - некоторая константа, например 0.001, чтобы спуск происходил без резких скачков\n",
    "* Производная (градиент, если параметров больше одного) $\\frac{d}{dW}J(W)$ показывает в какую сторону ошибка $J(W)$  будет возрастать при небольшом изменении $dW$"
   ]
  },
  {
   "cell_type": "markdown",
   "metadata": {
    "id": "gtQ5OkRFKWt-"
   },
   "source": [
    "Ниже для понимания как метод градиентного спуска ищет локальный минимум функции - визуализируем график градиентного спуска по функции $y = x^2$. В данном случае очень удобная функция с точки зрения простоты дифференцирования."
   ]
  },
  {
   "cell_type": "code",
   "execution_count": 4,
   "metadata": {
    "colab": {
     "base_uri": "https://localhost:8080/",
     "height": 504
    },
    "id": "ZqYRy1tHIEsX",
    "outputId": "3b75c720-728d-49fd-b0e7-011c4cdb3afa"
   },
   "outputs": [
    {
     "data": {
      "text/plain": [
       "<matplotlib.collections.PathCollection at 0x7c331ffc7a00>"
      ]
     },
     "execution_count": 4,
     "metadata": {},
     "output_type": "execute_result"
    },
    {
     "data": {
      "image/png": "[encoded data removed]",
      "text/plain": [
       "<Figure size 500x500 with 1 Axes>"
      ]
     },
     "metadata": {},
     "output_type": "display_data"
    }
   ],
   "source": [
    "plt.figure(figsize=(5, 5))\n",
    "plt.title('Градиентный спуск по функции W^2')\n",
    "plt.ylabel('J(W)')\n",
    "plt.xlabel('W')\n",
    "\n",
    "# точки по оси Ox\n",
    "data = np.linspace(-4, 4, 150)\n",
    "\n",
    "# построим сам график функции W^2\n",
    "def w_sqared(data):\n",
    "    return data**2\n",
    "\n",
    "# находим значение производной в точке\n",
    "def compute_deriv_w_sqared(point):\n",
    "    return 2*point\n",
    "\n",
    "# инициализируем случайным значеним\n",
    "w = 3.5\n",
    "\n",
    "# будем записывать значение W и соответсвую ему в точке ошибку\n",
    "w_pos = []\n",
    "error = []\n",
    "error_dict = {}\n",
    "indx = []\n",
    "\n",
    "\n",
    "# Возьмем 10 шагов\n",
    "for i in range(10):\n",
    "    # из старого значения w двигаемся в сторону убывания функции с шагом 0.05\n",
    "    w = w - 0.05 * compute_deriv_w_sqared(w)\n",
    "    #print(w, w_sqared(w))\n",
    "    indx.append(f'Итерация № {i}')\n",
    "    error_dict[w] = w_sqared(w)\n",
    "    w_pos.append(w)\n",
    "    error.append(w_sqared(w))\n",
    "\n",
    "plt.plot(data, w_sqared(data)) # парабола\n",
    "plt.scatter(w_pos, error) # точки на пораболе - итеративный спуск к точке минимума функции"
   ]
  },
  {
   "cell_type": "markdown",
   "metadata": {
    "id": "N8Ix4TXlVBp6"
   },
   "source": [
    "С каждой новой итерацией видно что ошибка уменьшается и мы направляемся в сторону минимума, но так и не достигаем его."
   ]
  },
  {
   "cell_type": "code",
   "execution_count": 5,
   "metadata": {
    "colab": {
     "base_uri": "https://localhost:8080/",
     "height": 363
    },
    "id": "7HQXqF8uJDdC",
    "outputId": "457b47a5-b414-4994-d928-6b0a87a35565"
   },
   "outputs": [
    {
     "data": {
      "text/html": [
       "\n",
       "  <div id=\"df-0c5414fb-5262-4e70-9848-ad49bef8721a\" class=\"colab-df-container\">\n",
       "    <div>\n",
       "<style scoped>\n",
       "    .dataframe tbody tr th:only-of-type {\n",
       "        vertical-align: middle;\n",
       "    }\n",
       "\n",
       "    .dataframe tbody tr th {\n",
       "        vertical-align: top;\n",
       "    }\n",
       "\n",
       "    .dataframe thead th {\n",
       "        text-align: right;\n",
       "    }\n",
       "</style>\n",
       "<table border=\"1\" class=\"dataframe\">\n",
       "  <thead>\n",
       "    <tr style=\"text-align: right;\">\n",
       "      <th></th>\n",
       "      <th>position</th>\n",
       "      <th>error</th>\n",
       "    </tr>\n",
       "  </thead>\n",
       "  <tbody>\n",
       "    <tr>\n",
       "      <th>Итерация № 0</th>\n",
       "      <td>3.150000</td>\n",
       "      <td>9.922500</td>\n",
       "    </tr>\n",
       "    <tr>\n",
       "      <th>Итерация № 1</th>\n",
       "      <td>2.835000</td>\n",
       "      <td>8.037225</td>\n",
       "    </tr>\n",
       "    <tr>\n",
       "      <th>Итерация № 2</th>\n",
       "      <td>2.551500</td>\n",
       "      <td>6.510152</td>\n",
       "    </tr>\n",
       "    <tr>\n",
       "      <th>Итерация № 3</th>\n",
       "      <td>2.296350</td>\n",
       "      <td>5.273223</td>\n",
       "    </tr>\n",
       "    <tr>\n",
       "      <th>Итерация № 4</th>\n",
       "      <td>2.066715</td>\n",
       "      <td>4.271311</td>\n",
       "    </tr>\n",
       "    <tr>\n",
       "      <th>Итерация № 5</th>\n",
       "      <td>1.860043</td>\n",
       "      <td>3.459762</td>\n",
       "    </tr>\n",
       "    <tr>\n",
       "      <th>Итерация № 6</th>\n",
       "      <td>1.674039</td>\n",
       "      <td>2.802407</td>\n",
       "    </tr>\n",
       "    <tr>\n",
       "      <th>Итерация № 7</th>\n",
       "      <td>1.506635</td>\n",
       "      <td>2.269950</td>\n",
       "    </tr>\n",
       "    <tr>\n",
       "      <th>Итерация № 8</th>\n",
       "      <td>1.355972</td>\n",
       "      <td>1.838659</td>\n",
       "    </tr>\n",
       "    <tr>\n",
       "      <th>Итерация № 9</th>\n",
       "      <td>1.220375</td>\n",
       "      <td>1.489314</td>\n",
       "    </tr>\n",
       "  </tbody>\n",
       "</table>\n",
       "</div>\n",
       "    <div class=\"colab-df-buttons\">\n",
       "\n",
       "  <div class=\"colab-df-container\">\n",
       "    <button class=\"colab-df-convert\" onclick=\"convertToInteractive('df-0c5414fb-5262-4e70-9848-ad49bef8721a')\"\n",
       "            title=\"Convert this dataframe to an interactive table.\"\n",
       "            style=\"display:none;\">\n",
       "\n",
       "  <svg xmlns=\"http://www.w3.org/2000/svg\" height=\"24px\" viewBox=\"0 -960 960 960\">\n",
       "    <path d=\"M120-120v-720h720v720H120Zm60-500h600v-160H180v160Zm220 220h160v-160H400v160Zm0 220h160v-160H400v160ZM180-400h160v-160H180v160Zm440 0h160v-160H620v160ZM180-180h160v-160H180v160Zm440 0h160v-160H620v160Z\"/>\n",
       "  </svg>\n",
       "    </button>\n",
       "\n",
       "  <style>\n",
       "    .colab-df-container {\n",
       "      display:flex;\n",
       "      gap: 12px;\n",
       "    }\n",
       "\n",
       "    .colab-df-convert {\n",
       "      background-color: #E8F0FE;\n",
       "      border: none;\n",
       "      border-radius: 50%;\n",
       "      cursor: pointer;\n",
       "      display: none;\n",
       "      fill: #1967D2;\n",
       "      height: 32px;\n",
       "      padding: 0 0 0 0;\n",
       "      width: 32px;\n",
       "    }\n",
       "\n",
       "    .colab-df-convert:hover {\n",
       "      background-color: #E2EBFA;\n",
       "      box-shadow: 0px 1px 2px rgba(60, 64, 67, 0.3), 0px 1px 3px 1px rgba(60, 64, 67, 0.15);\n",
       "      fill: #174EA6;\n",
       "    }\n",
       "\n",
       "    .colab-df-buttons div {\n",
       "      margin-bottom: 4px;\n",
       "    }\n",
       "\n",
       "    [theme=dark] .colab-df-convert {\n",
       "      background-color: #3B4455;\n",
       "      fill: #D2E3FC;\n",
       "    }\n",
       "\n",
       "    [theme=dark] .colab-df-convert:hover {\n",
       "      background-color: #434B5C;\n",
       "      box-shadow: 0px 1px 3px 1px rgba(0, 0, 0, 0.15);\n",
       "      filter: drop-shadow(0px 1px 2px rgba(0, 0, 0, 0.3));\n",
       "      fill: #FFFFFF;\n",
       "    }\n",
       "  </style>\n",
       "\n",
       "    <script>\n",
       "      const buttonEl =\n",
       "        document.querySelector('#df-0c5414fb-5262-4e70-9848-ad49bef8721a button.colab-df-convert');\n",
       "      buttonEl.style.display =\n",
       "        google.colab.kernel.accessAllowed ? 'block' : 'none';\n",
       "\n",
       "      async function convertToInteractive(key) {\n",
       "        const element = document.querySelector('#df-0c5414fb-5262-4e70-9848-ad49bef8721a');\n",
       "        const dataTable =\n",
       "          await google.colab.kernel.invokeFunction('convertToInteractive',\n",
       "                                                    [key], {});\n",
       "        if (!dataTable) return;\n",
       "\n",
       "        const docLinkHtml = 'Like what you see? Visit the ' +\n",
       "          '<a target=\"_blank\" href=https://colab.research.google.com/notebooks/data_table.ipynb>data table notebook</a>'\n",
       "          + ' to learn more about interactive tables.';\n",
       "        element.innerHTML = '';\n",
       "        dataTable['output_type'] = 'display_data';\n",
       "        await google.colab.output.renderOutput(dataTable, element);\n",
       "        const docLink = document.createElement('div');\n",
       "        docLink.innerHTML = docLinkHtml;\n",
       "        element.appendChild(docLink);\n",
       "      }\n",
       "    </script>\n",
       "  </div>\n",
       "\n",
       "\n",
       "<div id=\"df-783ffa34-b052-4985-8dc4-4584505681cf\">\n",
       "  <button class=\"colab-df-quickchart\" onclick=\"quickchart('df-783ffa34-b052-4985-8dc4-4584505681cf')\"\n",
       "            title=\"Suggest charts.\"\n",
       "            style=\"display:none;\">\n",
       "\n",
       "<svg xmlns=\"http://www.w3.org/2000/svg\" height=\"24px\"viewBox=\"0 0 24 24\"\n",
       "     width=\"24px\">\n",
       "    <g>\n",
       "        <path d=\"M19 3H5c-1.1 0-2 .9-2 2v14c0 1.1.9 2 2 2h14c1.1 0 2-.9 2-2V5c0-1.1-.9-2-2-2zM9 17H7v-7h2v7zm4 0h-2V7h2v10zm4 0h-2v-4h2v4z\"/>\n",
       "    </g>\n",
       "</svg>\n",
       "  </button>\n",
       "\n",
       "<style>\n",
       "  .colab-df-quickchart {\n",
       "      --bg-color: #E8F0FE;\n",
       "      --fill-color: #1967D2;\n",
       "      --hover-bg-color: #E2EBFA;\n",
       "      --hover-fill-color: #174EA6;\n",
       "      --disabled-fill-color: #AAA;\n",
       "      --disabled-bg-color: #DDD;\n",
       "  }\n",
       "\n",
       "  [theme=dark] .colab-df-quickchart {\n",
       "      --bg-color: #3B4455;\n",
       "      --fill-color: #D2E3FC;\n",
       "      --hover-bg-color: #434B5C;\n",
       "      --hover-fill-color: #FFFFFF;\n",
       "      --disabled-bg-color: #3B4455;\n",
       "      --disabled-fill-color: #666;\n",
       "  }\n",
       "\n",
       "  .colab-df-quickchart {\n",
       "    background-color: var(--bg-color);\n",
       "    border: none;\n",
       "    border-radius: 50%;\n",
       "    cursor: pointer;\n",
       "    display: none;\n",
       "    fill: var(--fill-color);\n",
       "    height: 32px;\n",
       "    padding: 0;\n",
       "    width: 32px;\n",
       "  }\n",
       "\n",
       "  .colab-df-quickchart:hover {\n",
       "    background-color: var(--hover-bg-color);\n",
       "    box-shadow: 0 1px 2px rgba(60, 64, 67, 0.3), 0 1px 3px 1px rgba(60, 64, 67, 0.15);\n",
       "    fill: var(--button-hover-fill-color);\n",
       "  }\n",
       "\n",
       "  .colab-df-quickchart-complete:disabled,\n",
       "  .colab-df-quickchart-complete:disabled:hover {\n",
       "    background-color: var(--disabled-bg-color);\n",
       "    fill: var(--disabled-fill-color);\n",
       "    box-shadow: none;\n",
       "  }\n",
       "\n",
       "  .colab-df-spinner {\n",
       "    border: 2px solid var(--fill-color);\n",
       "    border-color: transparent;\n",
       "    border-bottom-color: var(--fill-color);\n",
       "    animation:\n",
       "      spin 1s steps(1) infinite;\n",
       "  }\n",
       "\n",
       "  @keyframes spin {\n",
       "    0% {\n",
       "      border-color: transparent;\n",
       "      border-bottom-color: var(--fill-color);\n",
       "      border-left-color: var(--fill-color);\n",
       "    }\n",
       "    20% {\n",
       "      border-color: transparent;\n",
       "      border-left-color: var(--fill-color);\n",
       "      border-top-color: var(--fill-color);\n",
       "    }\n",
       "    30% {\n",
       "      border-color: transparent;\n",
       "      border-left-color: var(--fill-color);\n",
       "      border-top-color: var(--fill-color);\n",
       "      border-right-color: var(--fill-color);\n",
       "    }\n",
       "    40% {\n",
       "      border-color: transparent;\n",
       "      border-right-color: var(--fill-color);\n",
       "      border-top-color: var(--fill-color);\n",
       "    }\n",
       "    60% {\n",
       "      border-color: transparent;\n",
       "      border-right-color: var(--fill-color);\n",
       "    }\n",
       "    80% {\n",
       "      border-color: transparent;\n",
       "      border-right-color: var(--fill-color);\n",
       "      border-bottom-color: var(--fill-color);\n",
       "    }\n",
       "    90% {\n",
       "      border-color: transparent;\n",
       "      border-bottom-color: var(--fill-color);\n",
       "    }\n",
       "  }\n",
       "</style>\n",
       "\n",
       "  <script>\n",
       "    async function quickchart(key) {\n",
       "      const quickchartButtonEl =\n",
       "        document.querySelector('#' + key + ' button');\n",
       "      quickchartButtonEl.disabled = true;  // To prevent multiple clicks.\n",
       "      quickchartButtonEl.classList.add('colab-df-spinner');\n",
       "      try {\n",
       "        const charts = await google.colab.kernel.invokeFunction(\n",
       "            'suggestCharts', [key], {});\n",
       "      } catch (error) {\n",
       "        console.error('Error during call to suggestCharts:', error);\n",
       "      }\n",
       "      quickchartButtonEl.classList.remove('colab-df-spinner');\n",
       "      quickchartButtonEl.classList.add('colab-df-quickchart-complete');\n",
       "    }\n",
       "    (() => {\n",
       "      let quickchartButtonEl =\n",
       "        document.querySelector('#df-783ffa34-b052-4985-8dc4-4584505681cf button');\n",
       "      quickchartButtonEl.style.display =\n",
       "        google.colab.kernel.accessAllowed ? 'block' : 'none';\n",
       "    })();\n",
       "  </script>\n",
       "</div>\n",
       "    </div>\n",
       "  </div>\n"
      ],
      "text/plain": [
       "              position     error\n",
       "Итерация № 0  3.150000  9.922500\n",
       "Итерация № 1  2.835000  8.037225\n",
       "Итерация № 2  2.551500  6.510152\n",
       "Итерация № 3  2.296350  5.273223\n",
       "Итерация № 4  2.066715  4.271311\n",
       "Итерация № 5  1.860043  3.459762\n",
       "Итерация № 6  1.674039  2.802407\n",
       "Итерация № 7  1.506635  2.269950\n",
       "Итерация № 8  1.355972  1.838659\n",
       "Итерация № 9  1.220375  1.489314"
      ]
     },
     "execution_count": 5,
     "metadata": {},
     "output_type": "execute_result"
    }
   ],
   "source": [
    "# ход обучения с результатом ошибки на каждой итерации\n",
    "# ошибкой в данном случае считается абсолютное отклонение от\n",
    "# начала координат по оси Oy\n",
    "pd_data = {'position': w_pos, 'error': error}\n",
    "pd.DataFrame(data=pd_data, index= indx)"
   ]
  },
  {
   "cell_type": "markdown",
   "metadata": {
    "id": "SsLQ-BGuVMxB"
   },
   "source": [
    "На практике это зависит от:\n",
    "\n",
    "\n",
    "1.   Количества итераций (шагов градиентного спуска), в нашем случае было всего 10 шагов.\n",
    "2.   Скорости градиентного спуска (в нашем случае коэффициент скорости был равен 0.05).\n",
    "> Случайная инициализация весов тоже вносит небольшой вклад на первых итерациях, таким образом в некоторых инициализациях найти локальный минимум удастся немного быстрее.\n",
    "\n",
    "Регулировать скорость градиентного спуска нужно с осторожностью, так как при некоторых значениях можно просто проскочить локальный минимум, что будет показано ниже."
   ]
  },
  {
   "cell_type": "code",
   "execution_count": 6,
   "metadata": {
    "colab": {
     "base_uri": "https://localhost:8080/",
     "height": 504
    },
    "id": "YydpxL1IWGJz",
    "outputId": "3425ecab-748f-4642-b251-22fc14bd025d"
   },
   "outputs": [
    {
     "data": {
      "text/plain": [
       "<matplotlib.collections.PathCollection at 0x7c3320019120>"
      ]
     },
     "execution_count": 6,
     "metadata": {},
     "output_type": "execute_result"
    },
    {
     "data": {
      "image/png": "[encoded data removed]",
      "text/plain": [
       "<Figure size 500x500 with 1 Axes>"
      ]
     },
     "metadata": {},
     "output_type": "display_data"
    }
   ],
   "source": [
    "plt.figure(figsize=(5, 5))\n",
    "plt.title('Градиентный спуск по функции W^2')\n",
    "plt.ylabel('J(W)')\n",
    "plt.xlabel('W')\n",
    "\n",
    "# значение оставим прежним\n",
    "w = 3.5\n",
    "\n",
    "w_pos = []\n",
    "error = []\n",
    "\n",
    "for i in range(10):\n",
    "    # изменим только скорость спуска\n",
    "    w = w - 0.95 * compute_deriv_w_sqared(w)\n",
    "    w_pos.append(w)\n",
    "    error.append(w_sqared(w))\n",
    "\n",
    "plt.plot(data, w_sqared(data))\n",
    "plt.scatter(w_pos, error)"
   ]
  },
  {
   "cell_type": "markdown",
   "metadata": {
    "id": "zraM7nbAXjTR"
   },
   "source": [
    "При новом значении коэффициента скорости градиентного спуска (слишком высоком) мы сразу проскакиваем минимум, конечно его можно достигнуть и при таком значении скорости спуска, но придется сильно увеличить количество шагов, чего не хотелось бы делать, поэтому необходимо находить оптимальное соотношение скорости спуска и количества шагов для того чтобы достичь минимума функции за минимальное количество шагов.\n",
    "\n",
    "В дальнейшем, вы сможете автоматизировать процесс подбора скорости обучения для решения задач машинного обучения с помощью алгоритмов гиперпараметрической оптимизации, таких как Bayesian optimization, grid search или random search."
   ]
  },
  {
   "cell_type": "code",
   "execution_count": 7,
   "metadata": {
    "colab": {
     "base_uri": "https://localhost:8080/",
     "height": 504
    },
    "id": "cKpV5oPyYCqA",
    "outputId": "0ef2c63a-5e66-46b7-c7fb-8addc79e247f"
   },
   "outputs": [
    {
     "data": {
      "text/plain": [
       "<matplotlib.collections.PathCollection at 0x7c33221a6320>"
      ]
     },
     "execution_count": 7,
     "metadata": {},
     "output_type": "execute_result"
    },
    {
     "data": {
      "image/png": "[encoded data removed]",
      "text/plain": [
       "<Figure size 500x500 with 1 Axes>"
      ]
     },
     "metadata": {},
     "output_type": "display_data"
    }
   ],
   "source": [
    "plt.figure(figsize=(5, 5))\n",
    "plt.title('Градиентный спуск по функции W^2')\n",
    "plt.ylabel('J(W)')\n",
    "plt.xlabel('W')\n",
    "\n",
    "# значение оставим прежним\n",
    "w = 3.5\n",
    "\n",
    "w_pos = []\n",
    "error = []\n",
    "\n",
    "for i in range(10):\n",
    "    # изменим только скорость спуска\n",
    "    w = w - 0.5 * compute_deriv_w_sqared(w)\n",
    "    w_pos.append(w)\n",
    "    error.append(w_sqared(w))\n",
    "\n",
    "plt.plot(data, w_sqared(data))\n",
    "plt.scatter(w_pos, error)"
   ]
  },
  {
   "cell_type": "markdown",
   "metadata": {
    "id": "OjvShP3BZ2yo"
   },
   "source": [
    "Идеальное значение скорости спуска в данной задаче равна 0.5, при этом значении мы за один шаг попадаем в минимум функции."
   ]
  },
  {
   "cell_type": "markdown",
   "metadata": {
    "id": "PniuNHEmb_Mh"
   },
   "source": [
    "В примере до этого мы рассматривали ситуацию, когда напрямую известно как выглядит зависимость входов от выходов ($J(w) = w^2$). В практических задачах эта зависимоть неизвестна и модели нужно будет найти зависимость между целевой переменной и признаками набора данных.\n",
    "\n",
    "Чтобы понять насколько точно модель делает свой прогноз относительно значений целевой переменной, необходим функционал позволяющий оценить ошибку. Есть несколько метрик по которым можно оценить качество прогнозов модели. Одной из них является **MAE (Mean absolute error) или средняя абсолютная ошибка**.\n",
    "\n",
    "$$J(W) = \\frac{1}{n}\\sum_{i=0}^{n} |y_i - \\hat{y}_i|$$\n",
    "Где:\n",
    "* J(W) - ошибка зависящая от параметров алгоритма $W = [w_0, w_1]$ в нашем простейшем случае\n",
    "* $n$ - количество точек (у нас было сгенерировано 250 точек)\n",
    "* $\\hat{y}_i$ - прогноз алгоритма $y = w_0 + w_1\\cdot x$ (y - целевое значение, х - единственный признак) для $i$-ой точки данных\n",
    "* $y_i$ - истинные значения (целевая метка)\n",
    "\n",
    "Суть заключается в том чтобы оценить разницу между истинным значением и предсказанным моделью. Модуль тут служит для компенсации отрицательноего значения ошибки).\n",
    "\n",
    "Но стоит обратить внимание, что модуль - **НЕ** дифференцируемая функция. Таким образом не представляется возможным оценить как изменение параметров алгоритма оказывает влияние на ошибку. Поэтому чаще всего используют **MSE (Mean squared error) или среднеквадратичную ошибку**. MSE легко дифференцируется и сильнее \"штрафует\" (квадратично) каждую точку, которая сильно отклоняется от реальных значений:\n",
    "$$J(W) = \\frac{1}{n}\\sum_{i=0}^{n} (y_i - \\hat{y}_i)^2$$\n",
    "\n",
    "Если параметров больше чем 1, то находят градиент функции ∇. Градиент функции - это вектор частных производных по параметрам.\n",
    "\n",
    "На момент нахождения частной производной относительно $w_1$, все другие $w_n$ считаются $const$.\n",
    "\n",
    "Производная по $w_1$:\n",
    "\n",
    "$$\\frac{dJ(W)}{dw_1} = \\frac{1}{n}\\sum_{i=0}^{n} (y_i - (w_0 + w_1 ⋅ x_i)^2)' = $$\n",
    "$$= \\frac{1}{n}\\sum_{i=0}^{n} 2(y_i - (w_0 + w_1 ⋅ x_i)) ⋅ (-x_i) = $$\n",
    "$$= -\\frac{2}{n}\\sum_{i=0}^{n} x_i(y_i - \\hat{y}_i)$$\n",
    "\n",
    "Аналогично находится производная по смещению ($w_0$):\n",
    "\n",
    "$$\\frac{dJ(W)}{dw_0} = -\\frac{2}{n}\\sum_{i=0}^{n} (y_i - \\hat{y}_i)$$\n",
    "\n",
    "Теперь если инициализировать $w_0$ и $w_1$ случайными значениями, их нужно обновлять по направлению минус градиент:\n",
    "\n",
    "$$w_0 = w_0 - \\alpha \\frac{dJ(W)}{dw_0}$$\n",
    "$$w_1 = w_1 - \\alpha \\frac{dJ(W)}{dw_1}$$\n",
    "\n",
    "Где $\\alpha$ - скорость спуска"
   ]
  },
  {
   "cell_type": "markdown",
   "metadata": {
    "id": "w4B0kWn5FELW"
   },
   "source": [
    "## Стандартизация признаков\n",
    "<a id='standardization_of_features'></a>\n",
    "\n",
    "**Стоит учитывать что производная очень чувствительна к масштабу, и если признаки не прошли предварительную нормализацию (предпочтительно - стандартизацию), то шаги начнут резко менять параметры алгоритма, в следствии чего параметры уйдут в бесконечность или в 0.**\n",
    "\n",
    "Выполняя стандартизацию признаков мы устраняем влияние масштаба признаков и стабилизируем спуск по минус градиенту.\n",
    "\n",
    "$$x_{i, j} = \\frac{x_{i,j} - \\mu_j}{\\sigma_j}$$\n",
    "\n",
    "Где:\n",
    "* $j$ - номер столбца (признака)\n",
    "* $i$ - номер строки (точки данных)\n",
    "* $x_{i, j}$ - значение данных в строке $i$ столбца $j$\n",
    "* $\\mu_j$ - среднее (матожидание) значение в признаке $j$\n",
    "* $\\sigma_j$ - стандартное отклонение в признаке $j$\n",
    "\n",
    "Иными словами мы переносим середину распределения в 0 и сжимаем его так, чтоб стандартное отклонение было = 1 (как и дисперсия), что позитивно скажется на амплитуду разброса."
   ]
  },
  {
   "cell_type": "markdown",
   "metadata": {
    "id": "Nbc2iM7yE4GW"
   },
   "source": [
    "## Загрузка набора данных"
   ]
  },
  {
   "cell_type": "markdown",
   "metadata": {
    "id": "MVtMWr8iFQ49"
   },
   "source": [
    "Загрузим датасет “penguins” из библиотеки [seaborn](https://seaborn.pydata.org/). Он содержит информацию о 344 пингвинах, обитающих в Антарктиде. Данные собраны в ходе экспедиции исследовательского корабля “Nathaniel B. Palmer” в 2012 году и включают информацию о следующих параметрах каждого пингвина:\n",
    "\n",
    "\n",
    "\n",
    "*   ID - уникальный идентификатор пингвина\n",
    "*   species - вид пингвина (Adelie, Chinstrap или Gentoo)\n",
    "*   bill_length_mm - длина клюва пингвина в миллиметрах\n",
    "*   bill_depth_mm - глубина клюва в миллиметрах\n",
    "*   flipper_length_mm - длина плавника в миллиметрах\n",
    "*   body_mass_g - масса тела пингвина в граммах\n",
    "\n",
    "\n",
    "> Чтобы посмотреть список всех наборов данных доступных в библиотеки seaborn выполните `seaborn.get_dataset_names()`"
   ]
  },
  {
   "cell_type": "code",
   "execution_count": 8,
   "metadata": {
    "colab": {
     "base_uri": "https://localhost:8080/",
     "height": 206
    },
    "id": "Rw2KGrl1IWdL",
    "outputId": "db96c380-526c-4a68-8c21-7c9effe98790"
   },
   "outputs": [
    {
     "data": {
      "text/html": [
       "\n",
       "  <div id=\"df-3494ffcb-8e26-4fef-9ba3-c6e55b0af306\" class=\"colab-df-container\">\n",
       "    <div>\n",
       "<style scoped>\n",
       "    .dataframe tbody tr th:only-of-type {\n",
       "        vertical-align: middle;\n",
       "    }\n",
       "\n",
       "    .dataframe tbody tr th {\n",
       "        vertical-align: top;\n",
       "    }\n",
       "\n",
       "    .dataframe thead th {\n",
       "        text-align: right;\n",
       "    }\n",
       "</style>\n",
       "<table border=\"1\" class=\"dataframe\">\n",
       "  <thead>\n",
       "    <tr style=\"text-align: right;\">\n",
       "      <th></th>\n",
       "      <th>species</th>\n",
       "      <th>island</th>\n",
       "      <th>bill_length_mm</th>\n",
       "      <th>bill_depth_mm</th>\n",
       "      <th>flipper_length_mm</th>\n",
       "      <th>body_mass_g</th>\n",
       "      <th>sex</th>\n",
       "    </tr>\n",
       "  </thead>\n",
       "  <tbody>\n",
       "    <tr>\n",
       "      <th>0</th>\n",
       "      <td>Adelie</td>\n",
       "      <td>Torgersen</td>\n",
       "      <td>39.1</td>\n",
       "      <td>18.7</td>\n",
       "      <td>181.0</td>\n",
       "      <td>3750.0</td>\n",
       "      <td>Male</td>\n",
       "    </tr>\n",
       "    <tr>\n",
       "      <th>1</th>\n",
       "      <td>Adelie</td>\n",
       "      <td>Torgersen</td>\n",
       "      <td>39.5</td>\n",
       "      <td>17.4</td>\n",
       "      <td>186.0</td>\n",
       "      <td>3800.0</td>\n",
       "      <td>Female</td>\n",
       "    </tr>\n",
       "    <tr>\n",
       "      <th>2</th>\n",
       "      <td>Adelie</td>\n",
       "      <td>Torgersen</td>\n",
       "      <td>40.3</td>\n",
       "      <td>18.0</td>\n",
       "      <td>195.0</td>\n",
       "      <td>3250.0</td>\n",
       "      <td>Female</td>\n",
       "    </tr>\n",
       "    <tr>\n",
       "      <th>4</th>\n",
       "      <td>Adelie</td>\n",
       "      <td>Torgersen</td>\n",
       "      <td>36.7</td>\n",
       "      <td>19.3</td>\n",
       "      <td>193.0</td>\n",
       "      <td>3450.0</td>\n",
       "      <td>Female</td>\n",
       "    </tr>\n",
       "    <tr>\n",
       "      <th>5</th>\n",
       "      <td>Adelie</td>\n",
       "      <td>Torgersen</td>\n",
       "      <td>39.3</td>\n",
       "      <td>20.6</td>\n",
       "      <td>190.0</td>\n",
       "      <td>3650.0</td>\n",
       "      <td>Male</td>\n",
       "    </tr>\n",
       "  </tbody>\n",
       "</table>\n",
       "</div>\n",
       "    <div class=\"colab-df-buttons\">\n",
       "\n",
       "  <div class=\"colab-df-container\">\n",
       "    <button class=\"colab-df-convert\" onclick=\"convertToInteractive('df-3494ffcb-8e26-4fef-9ba3-c6e55b0af306')\"\n",
       "            title=\"Convert this dataframe to an interactive table.\"\n",
       "            style=\"display:none;\">\n",
       "\n",
       "  <svg xmlns=\"http://www.w3.org/2000/svg\" height=\"24px\" viewBox=\"0 -960 960 960\">\n",
       "    <path d=\"M120-120v-720h720v720H120Zm60-500h600v-160H180v160Zm220 220h160v-160H400v160Zm0 220h160v-160H400v160ZM180-400h160v-160H180v160Zm440 0h160v-160H620v160ZM180-180h160v-160H180v160Zm440 0h160v-160H620v160Z\"/>\n",
       "  </svg>\n",
       "    </button>\n",
       "\n",
       "  <style>\n",
       "    .colab-df-container {\n",
       "      display:flex;\n",
       "      gap: 12px;\n",
       "    }\n",
       "\n",
       "    .colab-df-convert {\n",
       "      background-color: #E8F0FE;\n",
       "      border: none;\n",
       "      border-radius: 50%;\n",
       "      cursor: pointer;\n",
       "      display: none;\n",
       "      fill: #1967D2;\n",
       "      height: 32px;\n",
       "      padding: 0 0 0 0;\n",
       "      width: 32px;\n",
       "    }\n",
       "\n",
       "    .colab-df-convert:hover {\n",
       "      background-color: #E2EBFA;\n",
       "      box-shadow: 0px 1px 2px rgba(60, 64, 67, 0.3), 0px 1px 3px 1px rgba(60, 64, 67, 0.15);\n",
       "      fill: #174EA6;\n",
       "    }\n",
       "\n",
       "    .colab-df-buttons div {\n",
       "      margin-bottom: 4px;\n",
       "    }\n",
       "\n",
       "    [theme=dark] .colab-df-convert {\n",
       "      background-color: #3B4455;\n",
       "      fill: #D2E3FC;\n",
       "    }\n",
       "\n",
       "    [theme=dark] .colab-df-convert:hover {\n",
       "      background-color: #434B5C;\n",
       "      box-shadow: 0px 1px 3px 1px rgba(0, 0, 0, 0.15);\n",
       "      filter: drop-shadow(0px 1px 2px rgba(0, 0, 0, 0.3));\n",
       "      fill: #FFFFFF;\n",
       "    }\n",
       "  </style>\n",
       "\n",
       "    <script>\n",
       "      const buttonEl =\n",
       "        document.querySelector('#df-3494ffcb-8e26-4fef-9ba3-c6e55b0af306 button.colab-df-convert');\n",
       "      buttonEl.style.display =\n",
       "        google.colab.kernel.accessAllowed ? 'block' : 'none';\n",
       "\n",
       "      async function convertToInteractive(key) {\n",
       "        const element = document.querySelector('#df-3494ffcb-8e26-4fef-9ba3-c6e55b0af306');\n",
       "        const dataTable =\n",
       "          await google.colab.kernel.invokeFunction('convertToInteractive',\n",
       "                                                    [key], {});\n",
       "        if (!dataTable) return;\n",
       "\n",
       "        const docLinkHtml = 'Like what you see? Visit the ' +\n",
       "          '<a target=\"_blank\" href=https://colab.research.google.com/notebooks/data_table.ipynb>data table notebook</a>'\n",
       "          + ' to learn more about interactive tables.';\n",
       "        element.innerHTML = '';\n",
       "        dataTable['output_type'] = 'display_data';\n",
       "        await google.colab.output.renderOutput(dataTable, element);\n",
       "        const docLink = document.createElement('div');\n",
       "        docLink.innerHTML = docLinkHtml;\n",
       "        element.appendChild(docLink);\n",
       "      }\n",
       "    </script>\n",
       "  </div>\n",
       "\n",
       "\n",
       "<div id=\"df-639c0077-b544-4bb3-b42d-70fcfb24db4d\">\n",
       "  <button class=\"colab-df-quickchart\" onclick=\"quickchart('df-639c0077-b544-4bb3-b42d-70fcfb24db4d')\"\n",
       "            title=\"Suggest charts.\"\n",
       "            style=\"display:none;\">\n",
       "\n",
       "<svg xmlns=\"http://www.w3.org/2000/svg\" height=\"24px\"viewBox=\"0 0 24 24\"\n",
       "     width=\"24px\">\n",
       "    <g>\n",
       "        <path d=\"M19 3H5c-1.1 0-2 .9-2 2v14c0 1.1.9 2 2 2h14c1.1 0 2-.9 2-2V5c0-1.1-.9-2-2-2zM9 17H7v-7h2v7zm4 0h-2V7h2v10zm4 0h-2v-4h2v4z\"/>\n",
       "    </g>\n",
       "</svg>\n",
       "  </button>\n",
       "\n",
       "<style>\n",
       "  .colab-df-quickchart {\n",
       "      --bg-color: #E8F0FE;\n",
       "      --fill-color: #1967D2;\n",
       "      --hover-bg-color: #E2EBFA;\n",
       "      --hover-fill-color: #174EA6;\n",
       "      --disabled-fill-color: #AAA;\n",
       "      --disabled-bg-color: #DDD;\n",
       "  }\n",
       "\n",
       "  [theme=dark] .colab-df-quickchart {\n",
       "      --bg-color: #3B4455;\n",
       "      --fill-color: #D2E3FC;\n",
       "      --hover-bg-color: #434B5C;\n",
       "      --hover-fill-color: #FFFFFF;\n",
       "      --disabled-bg-color: #3B4455;\n",
       "      --disabled-fill-color: #666;\n",
       "  }\n",
       "\n",
       "  .colab-df-quickchart {\n",
       "    background-color: var(--bg-color);\n",
       "    border: none;\n",
       "    border-radius: 50%;\n",
       "    cursor: pointer;\n",
       "    display: none;\n",
       "    fill: var(--fill-color);\n",
       "    height: 32px;\n",
       "    padding: 0;\n",
       "    width: 32px;\n",
       "  }\n",
       "\n",
       "  .colab-df-quickchart:hover {\n",
       "    background-color: var(--hover-bg-color);\n",
       "    box-shadow: 0 1px 2px rgba(60, 64, 67, 0.3), 0 1px 3px 1px rgba(60, 64, 67, 0.15);\n",
       "    fill: var(--button-hover-fill-color);\n",
       "  }\n",
       "\n",
       "  .colab-df-quickchart-complete:disabled,\n",
       "  .colab-df-quickchart-complete:disabled:hover {\n",
       "    background-color: var(--disabled-bg-color);\n",
       "    fill: var(--disabled-fill-color);\n",
       "    box-shadow: none;\n",
       "  }\n",
       "\n",
       "  .colab-df-spinner {\n",
       "    border: 2px solid var(--fill-color);\n",
       "    border-color: transparent;\n",
       "    border-bottom-color: var(--fill-color);\n",
       "    animation:\n",
       "      spin 1s steps(1) infinite;\n",
       "  }\n",
       "\n",
       "  @keyframes spin {\n",
       "    0% {\n",
       "      border-color: transparent;\n",
       "      border-bottom-color: var(--fill-color);\n",
       "      border-left-color: var(--fill-color);\n",
       "    }\n",
       "    20% {\n",
       "      border-color: transparent;\n",
       "      border-left-color: var(--fill-color);\n",
       "      border-top-color: var(--fill-color);\n",
       "    }\n",
       "    30% {\n",
       "      border-color: transparent;\n",
       "      border-left-color: var(--fill-color);\n",
       "      border-top-color: var(--fill-color);\n",
       "      border-right-color: var(--fill-color);\n",
       "    }\n",
       "    40% {\n",
       "      border-color: transparent;\n",
       "      border-right-color: var(--fill-color);\n",
       "      border-top-color: var(--fill-color);\n",
       "    }\n",
       "    60% {\n",
       "      border-color: transparent;\n",
       "      border-right-color: var(--fill-color);\n",
       "    }\n",
       "    80% {\n",
       "      border-color: transparent;\n",
       "      border-right-color: var(--fill-color);\n",
       "      border-bottom-color: var(--fill-color);\n",
       "    }\n",
       "    90% {\n",
       "      border-color: transparent;\n",
       "      border-bottom-color: var(--fill-color);\n",
       "    }\n",
       "  }\n",
       "</style>\n",
       "\n",
       "  <script>\n",
       "    async function quickchart(key) {\n",
       "      const quickchartButtonEl =\n",
       "        document.querySelector('#' + key + ' button');\n",
       "      quickchartButtonEl.disabled = true;  // To prevent multiple clicks.\n",
       "      quickchartButtonEl.classList.add('colab-df-spinner');\n",
       "      try {\n",
       "        const charts = await google.colab.kernel.invokeFunction(\n",
       "            'suggestCharts', [key], {});\n",
       "      } catch (error) {\n",
       "        console.error('Error during call to suggestCharts:', error);\n",
       "      }\n",
       "      quickchartButtonEl.classList.remove('colab-df-spinner');\n",
       "      quickchartButtonEl.classList.add('colab-df-quickchart-complete');\n",
       "    }\n",
       "    (() => {\n",
       "      let quickchartButtonEl =\n",
       "        document.querySelector('#df-639c0077-b544-4bb3-b42d-70fcfb24db4d button');\n",
       "      quickchartButtonEl.style.display =\n",
       "        google.colab.kernel.accessAllowed ? 'block' : 'none';\n",
       "    })();\n",
       "  </script>\n",
       "</div>\n",
       "    </div>\n",
       "  </div>\n"
      ],
      "text/plain": [
       "  species     island  bill_length_mm  bill_depth_mm  flipper_length_mm  \\\n",
       "0  Adelie  Torgersen            39.1           18.7              181.0   \n",
       "1  Adelie  Torgersen            39.5           17.4              186.0   \n",
       "2  Adelie  Torgersen            40.3           18.0              195.0   \n",
       "4  Adelie  Torgersen            36.7           19.3              193.0   \n",
       "5  Adelie  Torgersen            39.3           20.6              190.0   \n",
       "\n",
       "   body_mass_g     sex  \n",
       "0       3750.0    Male  \n",
       "1       3800.0  Female  \n",
       "2       3250.0  Female  \n",
       "4       3450.0  Female  \n",
       "5       3650.0    Male  "
      ]
     },
     "execution_count": 8,
     "metadata": {},
     "output_type": "execute_result"
    }
   ],
   "source": [
    "df = sns.load_dataset(\"penguins\")\n",
    "df.dropna(inplace=True)\n",
    "df.head()"
   ]
  },
  {
   "cell_type": "markdown",
   "metadata": {
    "id": "y-2SKauFGJml"
   },
   "source": [
    "Для простоты реализации алгоритма в этой рабочей тетради мы будем рассматривать только 2 колонки в данном наборе данных. Возьмем признак `flipper_length_mm`, а за целевую переменную `body_mass_g`. Будем исследовать взаимосвязь массы тела пингвина и длины плавника пингвина."
   ]
  },
  {
   "cell_type": "code",
   "execution_count": 9,
   "metadata": {
    "colab": {
     "base_uri": "https://localhost:8080/",
     "height": 206
    },
    "id": "bCn_MbVtGl0O",
    "outputId": "43b54a11-3b56-4ccd-b8df-0ecf1e3eca27"
   },
   "outputs": [
    {
     "data": {
      "text/html": [
       "\n",
       "  <div id=\"df-e5ad48b6-05ae-43d8-897d-1080114e2605\" class=\"colab-df-container\">\n",
       "    <div>\n",
       "<style scoped>\n",
       "    .dataframe tbody tr th:only-of-type {\n",
       "        vertical-align: middle;\n",
       "    }\n",
       "\n",
       "    .dataframe tbody tr th {\n",
       "        vertical-align: top;\n",
       "    }\n",
       "\n",
       "    .dataframe thead th {\n",
       "        text-align: right;\n",
       "    }\n",
       "</style>\n",
       "<table border=\"1\" class=\"dataframe\">\n",
       "  <thead>\n",
       "    <tr style=\"text-align: right;\">\n",
       "      <th></th>\n",
       "      <th>flipper_length_mm</th>\n",
       "      <th>body_mass_g</th>\n",
       "    </tr>\n",
       "  </thead>\n",
       "  <tbody>\n",
       "    <tr>\n",
       "      <th>0</th>\n",
       "      <td>181.0</td>\n",
       "      <td>3750.0</td>\n",
       "    </tr>\n",
       "    <tr>\n",
       "      <th>1</th>\n",
       "      <td>186.0</td>\n",
       "      <td>3800.0</td>\n",
       "    </tr>\n",
       "    <tr>\n",
       "      <th>2</th>\n",
       "      <td>195.0</td>\n",
       "      <td>3250.0</td>\n",
       "    </tr>\n",
       "    <tr>\n",
       "      <th>4</th>\n",
       "      <td>193.0</td>\n",
       "      <td>3450.0</td>\n",
       "    </tr>\n",
       "    <tr>\n",
       "      <th>5</th>\n",
       "      <td>190.0</td>\n",
       "      <td>3650.0</td>\n",
       "    </tr>\n",
       "  </tbody>\n",
       "</table>\n",
       "</div>\n",
       "    <div class=\"colab-df-buttons\">\n",
       "\n",
       "  <div class=\"colab-df-container\">\n",
       "    <button class=\"colab-df-convert\" onclick=\"convertToInteractive('df-e5ad48b6-05ae-43d8-897d-1080114e2605')\"\n",
       "            title=\"Convert this dataframe to an interactive table.\"\n",
       "            style=\"display:none;\">\n",
       "\n",
       "  <svg xmlns=\"http://www.w3.org/2000/svg\" height=\"24px\" viewBox=\"0 -960 960 960\">\n",
       "    <path d=\"M120-120v-720h720v720H120Zm60-500h600v-160H180v160Zm220 220h160v-160H400v160Zm0 220h160v-160H400v160ZM180-400h160v-160H180v160Zm440 0h160v-160H620v160ZM180-180h160v-160H180v160Zm440 0h160v-160H620v160Z\"/>\n",
       "  </svg>\n",
       "    </button>\n",
       "\n",
       "  <style>\n",
       "    .colab-df-container {\n",
       "      display:flex;\n",
       "      gap: 12px;\n",
       "    }\n",
       "\n",
       "    .colab-df-convert {\n",
       "      background-color: #E8F0FE;\n",
       "      border: none;\n",
       "      border-radius: 50%;\n",
       "      cursor: pointer;\n",
       "      display: none;\n",
       "      fill: #1967D2;\n",
       "      height: 32px;\n",
       "      padding: 0 0 0 0;\n",
       "      width: 32px;\n",
       "    }\n",
       "\n",
       "    .colab-df-convert:hover {\n",
       "      background-color: #E2EBFA;\n",
       "      box-shadow: 0px 1px 2px rgba(60, 64, 67, 0.3), 0px 1px 3px 1px rgba(60, 64, 67, 0.15);\n",
       "      fill: #174EA6;\n",
       "    }\n",
       "\n",
       "    .colab-df-buttons div {\n",
       "      margin-bottom: 4px;\n",
       "    }\n",
       "\n",
       "    [theme=dark] .colab-df-convert {\n",
       "      background-color: #3B4455;\n",
       "      fill: #D2E3FC;\n",
       "    }\n",
       "\n",
       "    [theme=dark] .colab-df-convert:hover {\n",
       "      background-color: #434B5C;\n",
       "      box-shadow: 0px 1px 3px 1px rgba(0, 0, 0, 0.15);\n",
       "      filter: drop-shadow(0px 1px 2px rgba(0, 0, 0, 0.3));\n",
       "      fill: #FFFFFF;\n",
       "    }\n",
       "  </style>\n",
       "\n",
       "    <script>\n",
       "      const buttonEl =\n",
       "        document.querySelector('#df-e5ad48b6-05ae-43d8-897d-1080114e2605 button.colab-df-convert');\n",
       "      buttonEl.style.display =\n",
       "        google.colab.kernel.accessAllowed ? 'block' : 'none';\n",
       "\n",
       "      async function convertToInteractive(key) {\n",
       "        const element = document.querySelector('#df-e5ad48b6-05ae-43d8-897d-1080114e2605');\n",
       "        const dataTable =\n",
       "          await google.colab.kernel.invokeFunction('convertToInteractive',\n",
       "                                                    [key], {});\n",
       "        if (!dataTable) return;\n",
       "\n",
       "        const docLinkHtml = 'Like what you see? Visit the ' +\n",
       "          '<a target=\"_blank\" href=https://colab.research.google.com/notebooks/data_table.ipynb>data table notebook</a>'\n",
       "          + ' to learn more about interactive tables.';\n",
       "        element.innerHTML = '';\n",
       "        dataTable['output_type'] = 'display_data';\n",
       "        await google.colab.output.renderOutput(dataTable, element);\n",
       "        const docLink = document.createElement('div');\n",
       "        docLink.innerHTML = docLinkHtml;\n",
       "        element.appendChild(docLink);\n",
       "      }\n",
       "    </script>\n",
       "  </div>\n",
       "\n",
       "\n",
       "<div id=\"df-a3853c09-8837-4ae2-9504-9b1517261d30\">\n",
       "  <button class=\"colab-df-quickchart\" onclick=\"quickchart('df-a3853c09-8837-4ae2-9504-9b1517261d30')\"\n",
       "            title=\"Suggest charts.\"\n",
       "            style=\"display:none;\">\n",
       "\n",
       "<svg xmlns=\"http://www.w3.org/2000/svg\" height=\"24px\"viewBox=\"0 0 24 24\"\n",
       "     width=\"24px\">\n",
       "    <g>\n",
       "        <path d=\"M19 3H5c-1.1 0-2 .9-2 2v14c0 1.1.9 2 2 2h14c1.1 0 2-.9 2-2V5c0-1.1-.9-2-2-2zM9 17H7v-7h2v7zm4 0h-2V7h2v10zm4 0h-2v-4h2v4z\"/>\n",
       "    </g>\n",
       "</svg>\n",
       "  </button>\n",
       "\n",
       "<style>\n",
       "  .colab-df-quickchart {\n",
       "      --bg-color: #E8F0FE;\n",
       "      --fill-color: #1967D2;\n",
       "      --hover-bg-color: #E2EBFA;\n",
       "      --hover-fill-color: #174EA6;\n",
       "      --disabled-fill-color: #AAA;\n",
       "      --disabled-bg-color: #DDD;\n",
       "  }\n",
       "\n",
       "  [theme=dark] .colab-df-quickchart {\n",
       "      --bg-color: #3B4455;\n",
       "      --fill-color: #D2E3FC;\n",
       "      --hover-bg-color: #434B5C;\n",
       "      --hover-fill-color: #FFFFFF;\n",
       "      --disabled-bg-color: #3B4455;\n",
       "      --disabled-fill-color: #666;\n",
       "  }\n",
       "\n",
       "  .colab-df-quickchart {\n",
       "    background-color: var(--bg-color);\n",
       "    border: none;\n",
       "    border-radius: 50%;\n",
       "    cursor: pointer;\n",
       "    display: none;\n",
       "    fill: var(--fill-color);\n",
       "    height: 32px;\n",
       "    padding: 0;\n",
       "    width: 32px;\n",
       "  }\n",
       "\n",
       "  .colab-df-quickchart:hover {\n",
       "    background-color: var(--hover-bg-color);\n",
       "    box-shadow: 0 1px 2px rgba(60, 64, 67, 0.3), 0 1px 3px 1px rgba(60, 64, 67, 0.15);\n",
       "    fill: var(--button-hover-fill-color);\n",
       "  }\n",
       "\n",
       "  .colab-df-quickchart-complete:disabled,\n",
       "  .colab-df-quickchart-complete:disabled:hover {\n",
       "    background-color: var(--disabled-bg-color);\n",
       "    fill: var(--disabled-fill-color);\n",
       "    box-shadow: none;\n",
       "  }\n",
       "\n",
       "  .colab-df-spinner {\n",
       "    border: 2px solid var(--fill-color);\n",
       "    border-color: transparent;\n",
       "    border-bottom-color: var(--fill-color);\n",
       "    animation:\n",
       "      spin 1s steps(1) infinite;\n",
       "  }\n",
       "\n",
       "  @keyframes spin {\n",
       "    0% {\n",
       "      border-color: transparent;\n",
       "      border-bottom-color: var(--fill-color);\n",
       "      border-left-color: var(--fill-color);\n",
       "    }\n",
       "    20% {\n",
       "      border-color: transparent;\n",
       "      border-left-color: var(--fill-color);\n",
       "      border-top-color: var(--fill-color);\n",
       "    }\n",
       "    30% {\n",
       "      border-color: transparent;\n",
       "      border-left-color: var(--fill-color);\n",
       "      border-top-color: var(--fill-color);\n",
       "      border-right-color: var(--fill-color);\n",
       "    }\n",
       "    40% {\n",
       "      border-color: transparent;\n",
       "      border-right-color: var(--fill-color);\n",
       "      border-top-color: var(--fill-color);\n",
       "    }\n",
       "    60% {\n",
       "      border-color: transparent;\n",
       "      border-right-color: var(--fill-color);\n",
       "    }\n",
       "    80% {\n",
       "      border-color: transparent;\n",
       "      border-right-color: var(--fill-color);\n",
       "      border-bottom-color: var(--fill-color);\n",
       "    }\n",
       "    90% {\n",
       "      border-color: transparent;\n",
       "      border-bottom-color: var(--fill-color);\n",
       "    }\n",
       "  }\n",
       "</style>\n",
       "\n",
       "  <script>\n",
       "    async function quickchart(key) {\n",
       "      const quickchartButtonEl =\n",
       "        document.querySelector('#' + key + ' button');\n",
       "      quickchartButtonEl.disabled = true;  // To prevent multiple clicks.\n",
       "      quickchartButtonEl.classList.add('colab-df-spinner');\n",
       "      try {\n",
       "        const charts = await google.colab.kernel.invokeFunction(\n",
       "            'suggestCharts', [key], {});\n",
       "      } catch (error) {\n",
       "        console.error('Error during call to suggestCharts:', error);\n",
       "      }\n",
       "      quickchartButtonEl.classList.remove('colab-df-spinner');\n",
       "      quickchartButtonEl.classList.add('colab-df-quickchart-complete');\n",
       "    }\n",
       "    (() => {\n",
       "      let quickchartButtonEl =\n",
       "        document.querySelector('#df-a3853c09-8837-4ae2-9504-9b1517261d30 button');\n",
       "      quickchartButtonEl.style.display =\n",
       "        google.colab.kernel.accessAllowed ? 'block' : 'none';\n",
       "    })();\n",
       "  </script>\n",
       "</div>\n",
       "    </div>\n",
       "  </div>\n"
      ],
      "text/plain": [
       "   flipper_length_mm  body_mass_g\n",
       "0              181.0       3750.0\n",
       "1              186.0       3800.0\n",
       "2              195.0       3250.0\n",
       "4              193.0       3450.0\n",
       "5              190.0       3650.0"
      ]
     },
     "execution_count": 9,
     "metadata": {},
     "output_type": "execute_result"
    }
   ],
   "source": [
    "data = df[['flipper_length_mm', 'body_mass_g']]\n",
    "data.head()"
   ]
  },
  {
   "cell_type": "markdown",
   "metadata": {
    "id": "-aleUvVuh-o2"
   },
   "source": [
    "## Создание, обучение и оценка работы модели"
   ]
  },
  {
   "cell_type": "code",
   "execution_count": 21,
   "metadata": {
    "colab": {
     "base_uri": "https://localhost:8080/"
    },
    "id": "_uTtLK6LcEwX",
    "outputId": "9be527da-1cd3-41a9-d5e2-99a6477970fb"
   },
   "outputs": [
    {
     "name": "stdout",
     "output_type": "stream",
     "text": [
      "13056.327447447446 65.04156156156156\n",
      "nan nan\n",
      "nan nan\n",
      "nan nan\n"
     ]
    }
   ],
   "source": [
    "# инициализация весов\n",
    "w1 = 1\n",
    "w0 = 1\n",
    "\n",
    "alpha = 0.01  # скорость спуска\n",
    "epochs = 700  # количество эпох (в данном случае шагов/итераций)\n",
    "\n",
    "error_train = [] # история изменения MSE в течении итераций во время обучения\n",
    "error_test = [] # история изменения MSE в течении итераций на тесте\n",
    "\n",
    "X = data['flipper_length_mm'] # длина плавника пингвина\n",
    "Y = data['body_mass_g'] # масса тела пингвина\n",
    "\n",
    "# разобьем точки на обучающую и тестовую выборки\n",
    "from sklearn.model_selection import train_test_split\n",
    "X_train, X_test, y_train, y_test = train_test_split(X, Y, test_size=0.2)\n",
    "\n",
    "n = float(len(X)) # Число элементов в выборке\n",
    "\n",
    "for i in range(epochs):\n",
    "\n",
    "    Y_pred = w1*X_train + w0  # Текущее предсказание вектора Y\n",
    "    D_w1 = (-2/n) * sum(X_train * (y_train - Y_pred))  # Производная функции потерь по w1\n",
    "    D_w0 = (-2/n) * sum(y_train - Y_pred)  # Производная функции потерь по w0\n",
    "    w1 = w1 - alpha * D_w1  # Обновляем w1 по направлению минус градиента\n",
    "    w0 = w0 - alpha * D_w0  # Обновляем w0 по направлению минус градиента\n",
    "\n",
    "    Y_pred_test = w1*X_test + w0\n",
    "\n",
    "    error_train.append(((y_train - Y_pred)**2).mean())\n",
    "    error_test.append(((y_test - Y_pred_test)**2).mean())\n",
    "\n",
    "    if i%200==0: # будем отображать прогресс обучения каждые 10 итераций\n",
    "        print(w1, w0)"
   ]
  },
  {
   "cell_type": "markdown",
   "metadata": {
    "id": "qBnH7TR9kPTS"
   },
   "source": [
    "Визуализируем изменение MSE в ходе обучения и теста"
   ]
  },
  {
   "cell_type": "code",
   "execution_count": 22,
   "metadata": {
    "colab": {
     "base_uri": "https://localhost:8080/",
     "height": 462
    },
    "id": "yDaA7wtClpXw",
    "outputId": "06a09c61-2135-4871-afdd-22fab8655759"
   },
   "outputs": [
    {
     "data": {
      "text/plain": [
       "<Axes: >"
      ]
     },
     "execution_count": 22,
     "metadata": {},
     "output_type": "execute_result"
    },
    {
     "data": {
      "image/png": "[encoded data removed]",
      "text/plain": [
       "<Figure size 640x480 with 1 Axes>"
      ]
     },
     "metadata": {},
     "output_type": "display_data"
    }
   ],
   "source": [
    "sns.lineplot(error_train, label='train MSE')\n",
    "sns.lineplot(error_test, label='test MSE')"
   ]
  },
  {
   "cell_type": "markdown",
   "metadata": {
    "id": "aV0dgF8NMTTd"
   },
   "source": [
    "Мы наблюдаем \"взрыв\" градиента, это именно то, о чем упоминалось в блоке **Стандартизация признаков**. Произошло это из-за того что абсолютные значения длин плавников неотмасштабированы.\n",
    "\n",
    "Произведем процедуру стандартизации:"
   ]
  },
  {
   "cell_type": "code",
   "execution_count": 12,
   "metadata": {
    "id": "0VBPl4KhUBON"
   },
   "outputs": [],
   "source": [
    "# создаем копию датафрейма\n",
    "data_std = data.copy()"
   ]
  },
  {
   "cell_type": "code",
   "execution_count": 13,
   "metadata": {
    "id": "sADxikY7Vy59"
   },
   "outputs": [],
   "source": [
    "# стандартизация длин плавников по формуле (X - X.mean()) / X.std()\n",
    "data_std[\"flipper_length_mm\"] = (data_std[\"flipper_length_mm\"] - data_std[\"flipper_length_mm\"].mean()) / data_std[\"flipper_length_mm\"].std()"
   ]
  },
  {
   "cell_type": "code",
   "execution_count": 14,
   "metadata": {
    "colab": {
     "base_uri": "https://localhost:8080/",
     "height": 427
    },
    "id": "nNWJH74YPKok",
    "outputId": "fc8bba6a-24b0-4308-93c8-97501a4d397c"
   },
   "outputs": [
    {
     "data": {
      "text/plain": [
       "Text(0.5, 1.0, 'Гистограмма после стандартизации')"
      ]
     },
     "execution_count": 14,
     "metadata": {},
     "output_type": "execute_result"
    },
    {
     "data": {
      "image/png": "[encoded data removed]",
      "text/plain": [
       "<Figure size 1200x400 with 2 Axes>"
      ]
     },
     "metadata": {},
     "output_type": "display_data"
    }
   ],
   "source": [
    "fig, axs = plt.subplots(nrows=1, ncols=2, figsize=(12, 4))\n",
    "\n",
    "# График 1 гистограмма до стандартизации\n",
    "sns.histplot(data=data, x=\"flipper_length_mm\", ax=axs[0])\n",
    "axs[0].set_title('Гистограмма до стандартизации')\n",
    "\n",
    "# График 2 гистограмма после стандартизации\n",
    "sns.histplot(data=data_std, x=\"flipper_length_mm\", ax=axs[1])\n",
    "axs[1].set_title('Гистограмма после стандартизации')"
   ]
  },
  {
   "cell_type": "markdown",
   "metadata": {
    "id": "UG_-EL1aitJ0"
   },
   "source": [
    "Теперь повторим обучение модели, но уже со стандартизованными признаками"
   ]
  },
  {
   "cell_type": "code",
   "execution_count": 23,
   "metadata": {
    "colab": {
     "base_uri": "https://localhost:8080/"
    },
    "id": "nuStfCXuiyYm",
    "outputId": "60142a42-4a03-4d61-b44a-ae19224faada"
   },
   "outputs": [
    {
     "name": "stdout",
     "output_type": "stream",
     "text": [
      "11.75616718577462 68.1403439306307\n",
      "666.7866426617526 4044.405447631216\n",
      "695.5976857911538 4204.034521159862\n",
      "696.8455736057355 4210.4460938564525\n"
     ]
    }
   ],
   "source": [
    "# инициализация весов\n",
    "w1 = 1\n",
    "w0 = 1\n",
    "\n",
    "alpha = 0.01  # скорость спуска\n",
    "epochs = 700  # количество эпох (в данном случае шагов/итераций)\n",
    "\n",
    "error_train = [] # история изменения MSE в течении итераций во время обучения\n",
    "error_test = [] # история изменения MSE в течении итераций на тесте\n",
    "\n",
    "X = data_std['flipper_length_mm'] # длина плавника пингвина\n",
    "Y = data_std['body_mass_g'] # масса тела пингвина\n",
    "\n",
    "# разобьем точки на обучающую и тестовую выборки\n",
    "from sklearn.model_selection import train_test_split\n",
    "X_train, X_test, y_train, y_test = train_test_split(X, Y, test_size=0.2)\n",
    "\n",
    "n = float(len(X)) # Число элементов в выборке\n",
    "\n",
    "for i in range(epochs):\n",
    "\n",
    "    Y_pred = w1*X_train + w0  # Текущее предсказание вектора Y\n",
    "    D_w1 = (-2/n) * sum(X_train * (y_train - Y_pred))  # Производная функции потерь по w1\n",
    "    D_w0 = (-2/n) * sum(y_train - Y_pred)  # Производная функции потерь по w0\n",
    "    w1 = w1 - alpha * D_w1  # Обновляем w1 по направлению минус градиента\n",
    "    w0 = w0 - alpha * D_w0  # Обновляем w0 по направлению минус градиента\n",
    "\n",
    "    Y_pred_test = w1*X_test + w0\n",
    "\n",
    "    error_train.append(((y_train - Y_pred)**2).mean())\n",
    "    error_test.append(((y_test - Y_pred_test)**2).mean())\n",
    "\n",
    "    if i%200==0: # будем отображать прогресс обучения каждые 200 итераций\n",
    "        print(w1, w0)"
   ]
  },
  {
   "cell_type": "markdown",
   "metadata": {
    "id": "CGiz7OoYkd5P"
   },
   "source": [
    "Вновь визуализируем изменение MSE"
   ]
  },
  {
   "cell_type": "code",
   "execution_count": 24,
   "metadata": {
    "colab": {
     "base_uri": "https://localhost:8080/",
     "height": 462
    },
    "id": "OGj58InCjgGz",
    "outputId": "5eb8d50b-42f8-4980-c9ad-dae18205cd2a"
   },
   "outputs": [
    {
     "data": {
      "text/plain": [
       "<Axes: >"
      ]
     },
     "execution_count": 24,
     "metadata": {},
     "output_type": "execute_result"
    },
    {
     "data": {
      "image/png": "[encoded data removed]",
      "text/plain": [
       "<Figure size 640x480 with 1 Axes>"
      ]
     },
     "metadata": {},
     "output_type": "display_data"
    }
   ],
   "source": [
    "sns.lineplot(error_train, label='train MSE')\n",
    "sns.lineplot(error_test, label='test MSE')"
   ]
  },
  {
   "cell_type": "markdown",
   "metadata": {
    "id": "MbdweqOkqUuI"
   },
   "source": [
    "Построим нашу обобщающую линию по лучшим результатам после обучения"
   ]
  },
  {
   "cell_type": "code",
   "execution_count": 30,
   "metadata": {
    "colab": {
     "base_uri": "https://localhost:8080/",
     "height": 564
    },
    "id": "xSt6QfpWqvsq",
    "outputId": "b3deb644-3233-4fd3-eb4a-262905541ebe"
   },
   "outputs": [
    {
     "data": {
      "image/png": "[encoded data removed]",
      "text/plain": [
       "<Figure size 600x600 with 1 Axes>"
      ]
     },
     "metadata": {},
     "output_type": "display_data"
    }
   ],
   "source": [
    "plt.figure(figsize=(6, 6))\n",
    "plt.title(\"Зависимость Y от X\")\n",
    "plt.xlabel(\"X\")\n",
    "plt.ylabel(\"Y\")\n",
    "sns.scatterplot(x=X, y=Y)\n",
    "\n",
    "plot_x = X\n",
    "plot_y = w0 + w1*plot_x\n",
    "plt.plot(plot_x, plot_y, label = f'Наклон: {w1:.2f} \\nCмещение: {w0:.2f}')\n",
    "plt.legend()\n",
    "plt.show()\n"
   ]
  },
  {
   "cell_type": "markdown",
   "metadata": {
    "id": "l9s7iA86lmnC"
   },
   "source": [
    "## Заключение\n",
    "\n",
    "В данной рабочей тетради мы познакомились с простой реализацией модели линейной регрессии на примере одного признака и целевой переменной, узнали как работает метод градиентного спуска и для чего он необходим, оценили влияние масштаба признаков на результат работы модели и важность предварительной обработки данных.\n",
    "\n",
    "В следующей рабочей тетради будет рассказано о создании полиномиальных признаков для нахождения нелинейных зависимостей в данных, а также о способах борьбы с переобучением модели таких как регуляризация и отбор признаков."
   ]
  }
 ],
 "metadata": {
  "colab": {
   "provenance": [],
   "toc_visible": true
  },
  "kernelspec": {
   "display_name": "Python 3 (ipykernel)",
   "language": "python",
   "name": "python3"
  },
  "language_info": {
   "codemirror_mode": {
    "name": "ipython",
    "version": 3
   },
   "file_extension": ".py",
   "mimetype": "text/x-python",
   "name": "python",
   "nbconvert_exporter": "python",
   "pygments_lexer": "ipython3",
   "version": "3.10.9"
  }
 },
 "nbformat": 4,
 "nbformat_minor": 4
}
